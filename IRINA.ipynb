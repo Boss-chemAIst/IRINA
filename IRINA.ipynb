{
 "cells": [
  {
   "cell_type": "code",
   "execution_count": 13,
   "metadata": {
    "collapsed": true
   },
   "outputs": [],
   "source": [
    "# COMSOL mesh loading to Python\n",
    "# Matlab .m codes in IRINA/Connect_with_COMSOL/COMSOL_Python directory are used for mesh generation\n",
    "# All geometries are saved to IRINA/Meshes\n",
    "\n",
    "from Connect_with_COMSOL.COMSOL_Python.mesh_loading import load_meshes\n",
    "load_meshes()"
   ]
  },
  {
   "cell_type": "code",
   "execution_count": null,
   "outputs": [],
   "source": [
    "# VAE training using all meshes (latent vector length is to be stated by the user)\n",
    "# All .csv geometries are used from IRINA/Meshes directory\n",
    "# Using all meshes VAE outputs the whole space to be explored (in the form of gene variances)\n",
    "# Using target meshes VAE outputs the space to pay attention to (as well as gene importance influencing mutations and crossovers)\n",
    "\n",
    "latent_vector_length = 16\n",
    "\n",
    "from Models.VAE_model.run_vae_model import get_vae_latent_vectors\n",
    "latent_vectors_target = get_vae_latent_vectors(latent_vector_length=latent_vector_length)"
   ],
   "metadata": {
    "collapsed": false,
    "pycharm": {
     "name": "#%%\n",
     "is_executing": true
    }
   }
  },
  {
   "cell_type": "code",
   "execution_count": null,
   "outputs": [],
   "source": [
    "# All meshes are used to calculate the whole space to be explored (it will limit the mutations)\n",
    "# Target meshes are used to calculate the space to pay attention to (it will be used for individual initialization)\n",
    "\n",
    "from Models.rvGA_model.rvga_functions import gene_boundaries_calculation\n",
    "\n",
    "gene_boundaries_all = gene_boundaries_calculation(latent_vectors_df=latent_vectors_all,\n",
    "                                                  latent_vector_length=latent_vector_length)\n",
    "gene_boundaries_target = gene_boundaries_calculation(latent_vectors_df=latent_vectors_target,\n",
    "                                                     latent_vector_length=latent_vector_length)"
   ],
   "metadata": {
    "collapsed": false,
    "pycharm": {
     "name": "#%%\n"
    }
   }
  },
  {
   "cell_type": "code",
   "execution_count": null,
   "outputs": [],
   "source": [
    "# Gene importance is calculated for the target meshes (it will be used to tune mutation and crossover rate)\n",
    "# max_diff_in_mating parameter allows to tune the influence of gene value variance on mutations and crossovers (it is to be set by the user)\n",
    "\n",
    "max_diff_in_mating = 2\n",
    "\n",
    "from Models.rvGA_model.rvga_functions import gene_importance_correction\n",
    "\n",
    "gene_importance_target = gene_importance_correction(latent_vectors_df=latent_vectors_target,\n",
    "                                                    max_diff_in_mating=max_diff_in_mating)"
   ],
   "metadata": {
    "collapsed": false,
    "pycharm": {
     "name": "#%%\n"
    }
   }
  },
  {
   "cell_type": "code",
   "execution_count": null,
   "outputs": [],
   "source": [
    "# Genetic algorithm is run:\n",
    "#\n",
    "# population_size (number of individuals in each generation),\n",
    "# max_generations (maximal number of generations after which the algorithm stops),\n",
    "# spectrum_proximity_percentage (max spectrum proximity to be achieved by the algorithm),\n",
    "# percentage_of_survived (percentage of individuals surviving the tournament),\n",
    "# prob_mutation (default probability of mutation for gene with importance equal to 1),\n",
    "# and prob_crossover (default probability of crossover for gene with importance equal to 1) are to be set by the user\n",
    "#\n",
    "# Outputs the final generation\n",
    "\n",
    "from Models.rvGA_model.run_rvga_model import run_genetic_algorithm\n",
    "\n",
    "x_evolved = run_genetic_algorithm(latent_vectors_target=latent_vectors_target,\n",
    "                                  vae_latent_vector_length=latent_vector_length,\n",
    "                                  gene_boundaries=gene_boundaries_target,\n",
    "                                  gene_importance=gene_importance_target,\n",
    "                                  population_size=50,\n",
    "                                  max_generations=50,\n",
    "                                  spectrum_proximity_percentage=90,\n",
    "                                  percentage_of_survived=50,\n",
    "                                  prob_mutation=10,\n",
    "                                  prob_crossover=80)"
   ],
   "metadata": {
    "collapsed": false,
    "pycharm": {
     "name": "#%%\n"
    }
   }
  }
 ],
 "metadata": {
  "kernelspec": {
   "display_name": "Python 3",
   "language": "python",
   "name": "python3"
  },
  "language_info": {
   "codemirror_mode": {
    "name": "ipython",
    "version": 2
   },
   "file_extension": ".py",
   "mimetype": "text/x-python",
   "name": "python",
   "nbconvert_exporter": "python",
   "pygments_lexer": "ipython2",
   "version": "2.7.6"
  }
 },
 "nbformat": 4,
 "nbformat_minor": 0
}