{
 "cells": [
  {
   "cell_type": "code",
   "execution_count": 13,
   "metadata": {
    "collapsed": true
   },
   "outputs": [],
   "source": [
    "# COMSOL mesh loading to Python\n",
    "# Matlab .m codes in IRINA/Connect_with_COMSOL/COMSOL_Python directory are used for mesh generation\n",
    "# All geometries are saved to IRINA/Meshes\n",
    "\n",
    "from Connect_with_COMSOL.COMSOL_Python.mesh_loading import load_meshes\n",
    "load_meshes()"
   ]
  },
  {
   "cell_type": "code",
   "execution_count": 12,
   "outputs": [
    {
     "name": "stdout",
     "output_type": "stream",
     "text": [
      "ERROR! Session/line number was not unique in database. History logging moved to new session 50\n"
     ]
    }
   ],
   "source": [
    "# VAE training using all meshes (latent vector length is to be stated by the user)\n",
    "# All .csv geometries are used from IRINA/Meshes directory\n",
    "# Using all meshes VAE outputs the whole space to be explored (in the form of gene variances)\n",
    "# Using target meshes VAE outputs the space to pay attention to (as well as gene importance influencing mutations and crossovers)\n",
    "\n",
    "latent_vector_length = 16\n",
    "\n",
    "from Models.VAE_model.run_vae_model import get_vae_latent_vectors\n",
    "latent_vectors_all, latent_vectors_target = get_vae_latent_vectors(latent_vector_length=latent_vector_length)"
   ],
   "metadata": {
    "collapsed": false,
    "pycharm": {
     "name": "#%%\n"
    }
   }
  },
  {
   "cell_type": "code",
   "execution_count": null,
   "outputs": [],
   "source": [
    "# All meshes are used to calculate the whole space to be explored (it will limit the mutations)\n",
    "# Target meshes are used to calculate the space to pay attention to (it will be used for individual initialization)\n",
    "\n",
    "from Models.rvGA_model.rvga_functions import gene_boundaries_calculation\n",
    "\n",
    "gene_boundaries_all = gene_boundaries_calculation(latent_vectors_df=latent_vectors_all,\n",
    "                                                  latent_vector_length=latent_vector_length)\n",
    "gene_boundaries_target = gene_boundaries_calculation(latent_vectors_df=latent_vectors_target,\n",
    "                                                     latent_vector_length=latent_vector_length)"
   ],
   "metadata": {
    "collapsed": false,
    "pycharm": {
     "name": "#%%\n"
    }
   }
  },
  {
   "cell_type": "code",
   "execution_count": null,
   "outputs": [],
   "source": [
    "# Gene importance is calculated for the target meshes (it will be used to tune mutation and crossover rate)\n",
    "# max_diff_in_mating parameter allows to tune the influence of gene value variance on mutations and crossovers (it is to be set by the user)\n",
    "\n",
    "max_diff_in_mating = 2\n",
    "\n",
    "from Models.rvGA_model.rvga_functions import gene_importance_correction\n",
    "\n",
    "gene_importance_target = gene_importance_correction(latent_vectors_df=latent_vectors_target,\n",
    "                                                    max_diff_in_mating=max_diff_in_mating)"
   ],
   "metadata": {
    "collapsed": false,
    "pycharm": {
     "name": "#%%\n"
    }
   }
  }
 ],
 "metadata": {
  "kernelspec": {
   "display_name": "Python 3",
   "language": "python",
   "name": "python3"
  },
  "language_info": {
   "codemirror_mode": {
    "name": "ipython",
    "version": 2
   },
   "file_extension": ".py",
   "mimetype": "text/x-python",
   "name": "python",
   "nbconvert_exporter": "python",
   "pygments_lexer": "ipython2",
   "version": "2.7.6"
  }
 },
 "nbformat": 4,
 "nbformat_minor": 0
}